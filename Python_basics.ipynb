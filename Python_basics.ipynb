{
  "nbformat": 4,
  "nbformat_minor": 0,
  "metadata": {
    "colab": {
      "provenance": []
    },
    "kernelspec": {
      "name": "python3",
      "display_name": "Python 3"
    },
    "language_info": {
      "name": "python"
    }
  },
  "cells": [
    {
      "cell_type": "code",
      "execution_count": null,
      "metadata": {
        "id": "2bObgOvK0Z-Z"
      },
      "outputs": [],
      "source": []
    },
    {
      "cell_type": "markdown",
      "source": [
        "**Python Basics Questions **"
      ],
      "metadata": {
        "id": "x1Mc41s-0dX5"
      }
    },
    {
      "cell_type": "code",
      "source": [],
      "metadata": {
        "id": "STYaWyRuASRi"
      },
      "execution_count": null,
      "outputs": []
    },
    {
      "cell_type": "markdown",
      "source": [
        "1:- What is Python, and why is it popular ?\n",
        "Ans :- Python is a programming language that's popular because it's easy to learn, versatile, and has a large community of users.\n",
        "\n",
        "2:- A Python interpreter is a program that reads and executes Python code ?\n",
        "Ans :- A Python interpreter is a program that reads and executes Python code.\n",
        "\n",
        "3:- What are pre-defined keywords in Python ?\n",
        "Ans :- Keywords in Python are reserved words that have a special meaning to the interpreter. They cannot be used as identifiers, such as variable names or function names.\n",
        "\n",
        "4:- Can keywords be used as variable names.\n",
        "Ans :- No, keywords cannot be used as variable names because they are reserved for defining the structure and syntax rules of a programming language.\n",
        "\n",
        "5:- What is mutability in Python ?\n",
        "Ans :- In Python, mutability refers to the capability of an object to be changed or modified after its creation.\n",
        "\n",
        "6:- Why are lists mutable, but tuples are immutable ?\n",
        "Ans :- The main difference between tuples and lists is that tuples are immutable, meaning their contents cannot be changed after creation, while lists are mutable and can be modified. Additionally, tuples are more memory-efficient compared to lists.\n",
        "\n",
        "7:- What is the difference between “==” and “is” operators in Python?\n",
        "\n",
        "Ans :-  The == operator helps us compare the equality of objects. The is operator helps us check whether different variables point towards a similar object in the memory.\n",
        "\n",
        "8:- What are logical operators in Python ?\n",
        "\n",
        "Ans :- A logical operator is a symbol or word used to connect two or more expressions such that the value of the compound expression produced depends only on that of the original expressions and on the meaning of the operator.\n",
        "\n",
        "9:- What is type casting in Python ?\n",
        "\n",
        "Ans :-The process of converting one data type into another is called typecasting.\n",
        "\n",
        "10:- What is the difference between implicit and explicit type casting ?\n",
        "\n",
        "Ans :- Implicit Type Casting in C(Type Coercion) is automatically performed by the compiler when assigning values between compatible data types. Explicit Type Casting in C manually performed using the casting operator (new_data_type) to convert values between different data types.\n",
        "\n",
        "11:- What is the purpose of conditional statements in Python ?\n",
        "\n",
        "Ans :- Conditional statements in Python are used to execute a specific block of code based on the truth value of a condition. The most common conditional statements in Python are if , elif and else\n",
        "\n",
        "12:- How does the elif statement work ?\n",
        "\n",
        "Ans :-  if the first condition is false, it moves on to the next “elif” statement to check if that condition is true.\n",
        "\n",
        "13:- What is the difference between for and while loops ?\n",
        "\n",
        "Ans :- For loop is used to iterate over a sequence of items. While loop is used to repeatedly execute a block of statements while a condition is true.\n",
        "\n",
        "14:- Describe a scenario where a while loop is more suitable than a for loop.\n",
        "\n",
        "Ans :- In contrast to a 'for' loop, which is generally used when the number of iterations is known beforehand, a 'while' loop is ideal for situations where the number of iterations is not predetermined and depends on some dynamic condition.\n"
      ],
      "metadata": {
        "id": "icx2-fB9AcX7"
      }
    },
    {
      "cell_type": "code",
      "source": [],
      "metadata": {
        "id": "kOqcCJbnAeJd"
      },
      "execution_count": null,
      "outputs": []
    },
    {
      "cell_type": "markdown",
      "source": [
        "**Python Practical questions**\n",
        "\n",
        "1:- Write a Python program to print \"Hello, World!\n",
        "\n"
      ],
      "metadata": {
        "id": "Qv0JFHtrAifm"
      }
    },
    {
      "cell_type": "code",
      "source": [
        "print(\"Hello, World!\")\n"
      ],
      "metadata": {
        "id": "ZQV3c7HKAz0V"
      },
      "execution_count": null,
      "outputs": []
    },
    {
      "cell_type": "markdown",
      "source": [
        "2:- Write a Python program that displays your name and age."
      ],
      "metadata": {
        "id": "syL3nOJ-A43n"
      }
    },
    {
      "cell_type": "code",
      "source": [
        "name = \"Md Sohail Jahangeer\"\n",
        "age = 23\n",
        "\n",
        "print(\"My name is\", name)\n",
        "print(\"I am\", age, \"years old\")\n"
      ],
      "metadata": {
        "id": "UsbG3b4LA-mZ"
      },
      "execution_count": null,
      "outputs": []
    },
    {
      "cell_type": "markdown",
      "source": [
        "3:- Write code to print all the pre-defined keywords in Python using the keyword library."
      ],
      "metadata": {
        "id": "lT58CT_PBJv1"
      }
    },
    {
      "cell_type": "code",
      "source": [
        "import keyword\n",
        "\n",
        "keywords = keyword.kwlist\n",
        "\n",
        "print(\"Python keywords:\")\n",
        "for kw in keywords:\n",
        "    print(kw)\n"
      ],
      "metadata": {
        "id": "5CH76WVVBnxH"
      },
      "execution_count": null,
      "outputs": []
    },
    {
      "cell_type": "markdown",
      "source": [],
      "metadata": {
        "id": "-DIfM13v1Kgy"
      }
    },
    {
      "cell_type": "markdown",
      "source": [
        "4:- Write a program that checks if a given word is a Python keyword."
      ],
      "metadata": {
        "id": "6B7Uy9lFBhTW"
      }
    },
    {
      "cell_type": "code",
      "source": [
        "import keyword\n",
        "\n",
        "word = input(\"Enter a word: \")\n",
        "if keyword.iskeyword(word):\n",
        "    print(f\"'{word}' is a Python keyword.\")\n",
        "else:\n",
        "    print(f\"'{word}' is not a Python keyword.\")\n"
      ],
      "metadata": {
        "id": "BVvS1Ih0Bv6s"
      },
      "execution_count": null,
      "outputs": []
    },
    {
      "cell_type": "markdown",
      "source": [
        "5:- Create a list and tuple in Python, and demonstrate how attempting to change an element works differently\n",
        "for each."
      ],
      "metadata": {
        "id": "LoE_V2_jB8Nc"
      }
    },
    {
      "cell_type": "code",
      "source": [
        "my_list = [1, 2, 3, 4, 5]\n",
        "print(\"Original list:\", my_list)\n",
        "\n",
        "my_list[2] = 99\n",
        "print(\"Modified list:\", my_list)\n",
        "\n",
        "my_tuple = (1, 2, 3, 4, 5)\n",
        "print(\"Original tuple:\", my_tuple)\n",
        "\n",
        "try:\n",
        "    my_tuple[2] = 99\n",
        "except TypeError as e:\n",
        "    print(\"Error:\", e)\n"
      ],
      "metadata": {
        "id": "Ut69oyM4CDVh"
      },
      "execution_count": null,
      "outputs": []
    },
    {
      "cell_type": "markdown",
      "source": [
        "6:- Write a function to demonstrate the behavior of mutable and immutable arguments."
      ],
      "metadata": {
        "id": "5lZiVifUCL0x"
      }
    },
    {
      "cell_type": "markdown",
      "source": [
        "8:-  Write a program to demonstrate the use of logical operators.\n"
      ],
      "metadata": {
        "id": "MJ_wDA3vClT-"
      }
    },
    {
      "cell_type": "code",
      "source": [
        "\n",
        "a = True\n",
        "b = False\n",
        "\n",
        "print(\"a:\", a, \"b:\", b)\n",
        "\n",
        "print(\"a and b:\", a and b)\n",
        "\n",
        "print(\"a or b:\", a or b)\n",
        "print(\"not a:\", not a)\n",
        "print(\"not b:\", not b)\n",
        "\n",
        "x = 10\n",
        "y = 5\n",
        "\n",
        "print(\"\\nUsing logical operators with conditions:\")\n",
        "print(\"x > 5 and y < 10:\", x > 5 and y < 10)\n",
        "print(\"x < 5 or y < 10:\", x < 5 or y < 10)\n",
        "print(\"not(x < 5):\", not (x < 5))\n"
      ],
      "metadata": {
        "colab": {
          "base_uri": "https://localhost:8080/"
        },
        "id": "o2d7iX6dCo6_",
        "outputId": "2682950a-1c40-4b8c-d262-dbb770b05ddc"
      },
      "execution_count": 1,
      "outputs": [
        {
          "output_type": "stream",
          "name": "stdout",
          "text": [
            "a: True b: False\n",
            "a and b: False\n",
            "a or b: True\n",
            "not a: False\n",
            "not b: True\n",
            "\n",
            "Using logical operators with conditions:\n",
            "x > 5 and y < 10: True\n",
            "x < 5 or y < 10: True\n",
            "not(x < 5): True\n"
          ]
        }
      ]
    },
    {
      "cell_type": "markdown",
      "source": [
        "9:- Write a Python program to convert user input from string to integer, float, and boolean types."
      ],
      "metadata": {
        "id": "9zgnEQMrVF1f"
      }
    },
    {
      "cell_type": "code",
      "source": [
        "user_input = input(\"Enter a value: \")\n",
        "\n",
        "try:\n",
        "    int_value = int(user_input)\n",
        "    print(\"Integer value:\", int_value)\n",
        "except ValueError:\n",
        "    print(\"Cannot convert to integer.\")\n",
        "\n",
        "try:\n",
        "    float_value = float(user_input)\n",
        "    print(\"Float value:\", float_value)\n",
        "except ValueError:\n",
        "    print(\"Cannot convert to float.\")\n",
        "\n",
        "bool_value = bool(user_input)\n",
        "print(\"Boolean value:\", bool_value)\n"
      ],
      "metadata": {
        "id": "OFTTU7QUVMvH"
      },
      "execution_count": null,
      "outputs": []
    },
    {
      "cell_type": "markdown",
      "source": [
        "10:- Write code to demonstrate type casting with list elements."
      ],
      "metadata": {
        "id": "BBjdzGwYVXvS"
      }
    },
    {
      "cell_type": "code",
      "source": [
        "str_list = [\"10\", \"20\", \"30\", \"40.5\", \"50\"]\n",
        "\n",
        "int_list = [int(x) for x in str_list if x.isdigit()]\n",
        "print(\"Integer list:\", int_list)\n",
        "\n",
        "float_list = [float(x) for x in str_list]\n",
        "print(\"Float list:\", float_list)\n",
        "\n",
        "bool_list = [bool(x) for x in str_list]\n",
        "print(\"Boolean list:\", bool_list)\n"
      ],
      "metadata": {
        "colab": {
          "base_uri": "https://localhost:8080/"
        },
        "id": "riclOsUTVh2A",
        "outputId": "e61c0ac8-8c16-4b93-a997-44cc8638b8a8"
      },
      "execution_count": 3,
      "outputs": [
        {
          "output_type": "stream",
          "name": "stdout",
          "text": [
            "Integer list: [10, 20, 30, 50]\n",
            "Float list: [10.0, 20.0, 30.0, 40.5, 50.0]\n",
            "Boolean list: [True, True, True, True, True]\n"
          ]
        }
      ]
    },
    {
      "cell_type": "markdown",
      "source": [
        "11:- Write a program that checks if a number is positive, negative, or zero."
      ],
      "metadata": {
        "id": "oFDfwy0zVnQ9"
      }
    },
    {
      "cell_type": "code",
      "source": [
        "num = float(input(\"Enter a number: \"))\n",
        "\n",
        "if num > 0:\n",
        "    print(\"The number is positive.\")\n",
        "elif num < 0:\n",
        "    print(\"The number is negative.\")\n",
        "else:\n",
        "    print(\"The number is zero.\")\n"
      ],
      "metadata": {
        "id": "Dmx2oKeiVr14"
      },
      "execution_count": null,
      "outputs": []
    },
    {
      "cell_type": "markdown",
      "source": [
        "12:- Write a for loop to print numbers from 1 to 100."
      ],
      "metadata": {
        "id": "6iCmLs3ZVwd_"
      }
    },
    {
      "cell_type": "code",
      "source": [
        "for num in range(1, 101):\n",
        "    print(num)\n"
      ],
      "metadata": {
        "colab": {
          "base_uri": "https://localhost:8080/"
        },
        "id": "oECEpLIAV1No",
        "outputId": "3b435798-73a3-4fa6-d6f3-72296c88ff7e"
      },
      "execution_count": 2,
      "outputs": [
        {
          "output_type": "stream",
          "name": "stdout",
          "text": [
            "1\n",
            "2\n",
            "3\n",
            "4\n",
            "5\n",
            "6\n",
            "7\n",
            "8\n",
            "9\n",
            "10\n",
            "11\n",
            "12\n",
            "13\n",
            "14\n",
            "15\n",
            "16\n",
            "17\n",
            "18\n",
            "19\n",
            "20\n",
            "21\n",
            "22\n",
            "23\n",
            "24\n",
            "25\n",
            "26\n",
            "27\n",
            "28\n",
            "29\n",
            "30\n",
            "31\n",
            "32\n",
            "33\n",
            "34\n",
            "35\n",
            "36\n",
            "37\n",
            "38\n",
            "39\n",
            "40\n",
            "41\n",
            "42\n",
            "43\n",
            "44\n",
            "45\n",
            "46\n",
            "47\n",
            "48\n",
            "49\n",
            "50\n",
            "51\n",
            "52\n",
            "53\n",
            "54\n",
            "55\n",
            "56\n",
            "57\n",
            "58\n",
            "59\n",
            "60\n",
            "61\n",
            "62\n",
            "63\n",
            "64\n",
            "65\n",
            "66\n",
            "67\n",
            "68\n",
            "69\n",
            "70\n",
            "71\n",
            "72\n",
            "73\n",
            "74\n",
            "75\n",
            "76\n",
            "77\n",
            "78\n",
            "79\n",
            "80\n",
            "81\n",
            "82\n",
            "83\n",
            "84\n",
            "85\n",
            "86\n",
            "87\n",
            "88\n",
            "89\n",
            "90\n",
            "91\n",
            "92\n",
            "93\n",
            "94\n",
            "95\n",
            "96\n",
            "97\n",
            "98\n",
            "99\n",
            "100\n"
          ]
        }
      ]
    },
    {
      "cell_type": "markdown",
      "source": [
        "13:- Write a Python program to find the sum of all even numbers between 1 and 500"
      ],
      "metadata": {
        "id": "EriNeTqXWG_q"
      }
    },
    {
      "cell_type": "code",
      "source": [
        "sum_even = sum(range(2, 501, 2))\n",
        "\n",
        "print(\"Sum of all even numbers between 1 and 500:\", sum_even)\n"
      ],
      "metadata": {
        "id": "RWlCMqQzWNMN"
      },
      "execution_count": null,
      "outputs": []
    },
    {
      "cell_type": "markdown",
      "source": [
        "14:-  Write a program to reverse a string using a while loop."
      ],
      "metadata": {
        "id": "izltwagXWSKJ"
      }
    },
    {
      "cell_type": "code",
      "source": [
        "string = input(\"Enter a string: \")\n",
        "\n",
        "reversed_string = \"\"\n",
        "\n",
        "i = len(string) - 1\n",
        "\n",
        "while i >= 0:\n",
        "    reversed_string += string[i]\n",
        "    i -= 1\n",
        "\n",
        "print(\"Reversed string:\", reversed_string)\n"
      ],
      "metadata": {
        "id": "908uZjx8WYQP"
      },
      "execution_count": null,
      "outputs": []
    },
    {
      "cell_type": "markdown",
      "source": [
        "15:-  Write a Python program to calculate the factorial of a number provided by the user using a while loop."
      ],
      "metadata": {
        "id": "ivdlgczkWiwv"
      }
    },
    {
      "cell_type": "code",
      "source": [
        "num = int(input(\"Enter a number: \"))\n",
        "\n",
        "factorial = 1\n",
        "\n",
        "i = num\n",
        "\n",
        "while i > 0:\n",
        "    factorial *= i\n",
        "    i -= 1\n",
        "\n",
        "print(f\"Factorial of {num} is {factorial}\")\n"
      ],
      "metadata": {
        "id": "ZV9wsyUQWqPA"
      },
      "execution_count": null,
      "outputs": []
    }
  ]
}